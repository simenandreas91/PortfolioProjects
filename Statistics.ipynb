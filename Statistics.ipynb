{
 "cells": [
  {
   "cell_type": "markdown",
   "metadata": {},
   "source": [
    "# Import libraries"
   ]
  },
  {
   "cell_type": "code",
   "execution_count": 1,
   "metadata": {},
   "outputs": [],
   "source": [
    "import pandas as pd\n",
    "import sympy as sp\n",
    "import numpy as np\n",
    "import seaborn as sn\n",
    "import matplotlib.pyplot as plt\n",
    "import math\n",
    "from math import sqrt\n",
    "from math import comb\n",
    "from sympy.interactive import printing\n",
    "printing.init_printing(use_latex = True)\n",
    "x = sp.Symbol('x')\n",
    "from scipy.stats import norm\n",
    "from scipy.stats import t"
   ]
  },
  {
   "cell_type": "markdown",
   "metadata": {},
   "source": [
    "# Rename the columns and enter the values"
   ]
  },
  {
   "cell_type": "code",
   "execution_count": 3,
   "metadata": {},
   "outputs": [],
   "source": [
    "df = pd.DataFrame({\n",
    "    \n",
    "    'Age':         [27,31,43,48,52,63],\n",
    "    'Monthly wage':[42,47,45,51,61,59]\n",
    "\n",
    "})"
   ]
  },
  {
   "cell_type": "markdown",
   "metadata": {},
   "source": [
    "# Check dataframe"
   ]
  },
  {
   "cell_type": "code",
   "execution_count": 4,
   "metadata": {},
   "outputs": [
    {
     "data": {
      "text/html": [
       "<div>\n",
       "<style scoped>\n",
       "    .dataframe tbody tr th:only-of-type {\n",
       "        vertical-align: middle;\n",
       "    }\n",
       "\n",
       "    .dataframe tbody tr th {\n",
       "        vertical-align: top;\n",
       "    }\n",
       "\n",
       "    .dataframe thead th {\n",
       "        text-align: right;\n",
       "    }\n",
       "</style>\n",
       "<table border=\"1\" class=\"dataframe\">\n",
       "  <thead>\n",
       "    <tr style=\"text-align: right;\">\n",
       "      <th></th>\n",
       "      <th>Age</th>\n",
       "      <th>Monthly wage</th>\n",
       "    </tr>\n",
       "  </thead>\n",
       "  <tbody>\n",
       "    <tr>\n",
       "      <th>0</th>\n",
       "      <td>27</td>\n",
       "      <td>42</td>\n",
       "    </tr>\n",
       "    <tr>\n",
       "      <th>1</th>\n",
       "      <td>31</td>\n",
       "      <td>47</td>\n",
       "    </tr>\n",
       "    <tr>\n",
       "      <th>2</th>\n",
       "      <td>43</td>\n",
       "      <td>45</td>\n",
       "    </tr>\n",
       "    <tr>\n",
       "      <th>3</th>\n",
       "      <td>48</td>\n",
       "      <td>51</td>\n",
       "    </tr>\n",
       "    <tr>\n",
       "      <th>4</th>\n",
       "      <td>52</td>\n",
       "      <td>61</td>\n",
       "    </tr>\n",
       "    <tr>\n",
       "      <th>5</th>\n",
       "      <td>63</td>\n",
       "      <td>59</td>\n",
       "    </tr>\n",
       "  </tbody>\n",
       "</table>\n",
       "</div>"
      ],
      "text/plain": [
       "   Age  Monthly wage\n",
       "0   27            42\n",
       "1   31            47\n",
       "2   43            45\n",
       "3   48            51\n",
       "4   52            61\n",
       "5   63            59"
      ]
     },
     "execution_count": 4,
     "metadata": {},
     "output_type": "execute_result"
    }
   ],
   "source": [
    "df"
   ]
  },
  {
   "cell_type": "markdown",
   "metadata": {},
   "source": [
    "# Find the mean and the standard derivation"
   ]
  },
  {
   "cell_type": "code",
   "execution_count": 5,
   "metadata": {},
   "outputs": [
    {
     "data": {
      "text/html": [
       "<div>\n",
       "<style scoped>\n",
       "    .dataframe tbody tr th:only-of-type {\n",
       "        vertical-align: middle;\n",
       "    }\n",
       "\n",
       "    .dataframe tbody tr th {\n",
       "        vertical-align: top;\n",
       "    }\n",
       "\n",
       "    .dataframe thead th {\n",
       "        text-align: right;\n",
       "    }\n",
       "</style>\n",
       "<table border=\"1\" class=\"dataframe\">\n",
       "  <thead>\n",
       "    <tr style=\"text-align: right;\">\n",
       "      <th></th>\n",
       "      <th>Age</th>\n",
       "      <th>Monthly wage</th>\n",
       "    </tr>\n",
       "  </thead>\n",
       "  <tbody>\n",
       "    <tr>\n",
       "      <th>count</th>\n",
       "      <td>6.000000</td>\n",
       "      <td>6.000000</td>\n",
       "    </tr>\n",
       "    <tr>\n",
       "      <th>mean</th>\n",
       "      <td>44.000000</td>\n",
       "      <td>50.833333</td>\n",
       "    </tr>\n",
       "    <tr>\n",
       "      <th>std</th>\n",
       "      <td>13.416408</td>\n",
       "      <td>7.704977</td>\n",
       "    </tr>\n",
       "    <tr>\n",
       "      <th>min</th>\n",
       "      <td>27.000000</td>\n",
       "      <td>42.000000</td>\n",
       "    </tr>\n",
       "    <tr>\n",
       "      <th>25%</th>\n",
       "      <td>34.000000</td>\n",
       "      <td>45.500000</td>\n",
       "    </tr>\n",
       "    <tr>\n",
       "      <th>50%</th>\n",
       "      <td>45.500000</td>\n",
       "      <td>49.000000</td>\n",
       "    </tr>\n",
       "    <tr>\n",
       "      <th>75%</th>\n",
       "      <td>51.000000</td>\n",
       "      <td>57.000000</td>\n",
       "    </tr>\n",
       "    <tr>\n",
       "      <th>max</th>\n",
       "      <td>63.000000</td>\n",
       "      <td>61.000000</td>\n",
       "    </tr>\n",
       "  </tbody>\n",
       "</table>\n",
       "</div>"
      ],
      "text/plain": [
       "             Age  Monthly wage\n",
       "count   6.000000      6.000000\n",
       "mean   44.000000     50.833333\n",
       "std    13.416408      7.704977\n",
       "min    27.000000     42.000000\n",
       "25%    34.000000     45.500000\n",
       "50%    45.500000     49.000000\n",
       "75%    51.000000     57.000000\n",
       "max    63.000000     61.000000"
      ]
     },
     "execution_count": 5,
     "metadata": {},
     "output_type": "execute_result"
    }
   ],
   "source": [
    "df.describe()"
   ]
  },
  {
   "cell_type": "markdown",
   "metadata": {},
   "source": [
    "# Find the variance"
   ]
  },
  {
   "cell_type": "code",
   "execution_count": 6,
   "metadata": {},
   "outputs": [
    {
     "data": {
      "text/plain": [
       "Age             180.000000\n",
       "Monthly wage     59.366667\n",
       "dtype: float64"
      ]
     },
     "execution_count": 6,
     "metadata": {},
     "output_type": "execute_result"
    }
   ],
   "source": [
    "df.var()"
   ]
  },
  {
   "cell_type": "markdown",
   "metadata": {},
   "source": [
    "# Find the covariance"
   ]
  },
  {
   "cell_type": "code",
   "execution_count": 7,
   "metadata": {},
   "outputs": [
    {
     "data": {
      "text/html": [
       "<div>\n",
       "<style scoped>\n",
       "    .dataframe tbody tr th:only-of-type {\n",
       "        vertical-align: middle;\n",
       "    }\n",
       "\n",
       "    .dataframe tbody tr th {\n",
       "        vertical-align: top;\n",
       "    }\n",
       "\n",
       "    .dataframe thead th {\n",
       "        text-align: right;\n",
       "    }\n",
       "</style>\n",
       "<table border=\"1\" class=\"dataframe\">\n",
       "  <thead>\n",
       "    <tr style=\"text-align: right;\">\n",
       "      <th></th>\n",
       "      <th>Age</th>\n",
       "      <th>Monthly wage</th>\n",
       "    </tr>\n",
       "  </thead>\n",
       "  <tbody>\n",
       "    <tr>\n",
       "      <th>Age</th>\n",
       "      <td>180.0</td>\n",
       "      <td>88.600000</td>\n",
       "    </tr>\n",
       "    <tr>\n",
       "      <th>Monthly wage</th>\n",
       "      <td>88.6</td>\n",
       "      <td>59.366667</td>\n",
       "    </tr>\n",
       "  </tbody>\n",
       "</table>\n",
       "</div>"
      ],
      "text/plain": [
       "                Age  Monthly wage\n",
       "Age           180.0     88.600000\n",
       "Monthly wage   88.6     59.366667"
      ]
     },
     "execution_count": 7,
     "metadata": {},
     "output_type": "execute_result"
    }
   ],
   "source": [
    "df.cov()"
   ]
  },
  {
   "cell_type": "markdown",
   "metadata": {},
   "source": [
    "# Find the correlation coeficient and plot it"
   ]
  },
  {
   "cell_type": "code",
   "execution_count": 8,
   "metadata": {},
   "outputs": [
    {
     "name": "stdout",
     "output_type": "stream",
     "text": [
      "                   Age  Monthly wage\n",
      "Age           1.000000      0.857089\n",
      "Monthly wage  0.857089      1.000000\n"
     ]
    },
    {
     "data": {
      "image/png": "[encoded data removed]",
      "text/plain": [
       "<Figure size 432x288 with 2 Axes>"
      ]
     },
     "metadata": {
      "needs_background": "light"
     },
     "output_type": "display_data"
    }
   ],
   "source": [
    "print(df.corr())\n",
    "\n",
    "sn.heatmap(df.corr(), annot=True, cmap='coolwarm')\n",
    "plt.show()"
   ]
  },
  {
   "cell_type": "markdown",
   "metadata": {},
   "source": [
    "![green-divider](https://user-images.githubusercontent.com/7065401/52071924-c003ad80-2562-11e9-8297-1c6595f8a7ff.png)"
   ]
  },
  {
   "cell_type": "markdown",
   "metadata": {},
   "source": [
    "# Find Z value for less/more or between."
   ]
  },
  {
   "cell_type": "markdown",
   "metadata": {},
   "source": [
    "# Z less than value:\n",
    "P(Z < 1.67) = 1.67, Blue, Z-P = 0.9525"
   ]
  },
  {
   "cell_type": "code",
   "execution_count": 9,
   "metadata": {},
   "outputs": [
    {
     "data": {
      "image/png": "[encoded data removed]",
      "text/latex": [
       "$\\displaystyle 0.9525403181970526$"
      ],
      "text/plain": [
       "0.9525403181970526"
      ]
     },
     "execution_count": 9,
     "metadata": {},
     "output_type": "execute_result"
    }
   ],
   "source": [
    "p = norm.cdf(1.67)\n",
    "p"
   ]
  },
  {
   "cell_type": "markdown",
   "metadata": {},
   "source": [
    "# Z bigger than value:\n",
    "P(Z > 0.33) = 1 - (0.33, Blue, Z-P) = 0.3707"
   ]
  },
  {
   "cell_type": "code",
   "execution_count": 10,
   "metadata": {},
   "outputs": [
    {
     "data": {
      "image/png": "[encoded data removed]",
      "text/latex": [
       "$\\displaystyle 0.37780067653086463$"
      ],
      "text/plain": [
       "0.37780067653086463"
      ]
     },
     "execution_count": 10,
     "metadata": {},
     "output_type": "execute_result"
    }
   ],
   "source": [
    "p = norm.pdf(0.33)\n",
    "p"
   ]
  },
  {
   "cell_type": "markdown",
   "metadata": {},
   "source": [
    "# Z between two values:\n",
    "P(0.34 < Z < 1.34) =\\\n",
    "1.34, blue, Z-P = 0.9099\\\n",
    "0.34, blue, Z-P = 0.6331\\\n",
    "0.9099 - 0.6331 = 0.2768"
   ]
  },
  {
   "cell_type": "code",
   "execution_count": 11,
   "metadata": {},
   "outputs": [
    {
     "data": {
      "image/png": "[encoded data removed]",
      "text/latex": [
       "$\\displaystyle 0.27680559149951955$"
      ],
      "text/plain": [
       "0.27680559149951955"
      ]
     },
     "execution_count": 11,
     "metadata": {},
     "output_type": "execute_result"
    }
   ],
   "source": [
    "norm.cdf(1.34) - norm.cdf(0.34)"
   ]
  },
  {
   "cell_type": "markdown",
   "metadata": {},
   "source": [
    "---------------------------------"
   ]
  },
  {
   "cell_type": "markdown",
   "metadata": {},
   "source": [
    "# Confidence interval - Normal distribution\n",
    "\n",
    "Example:\n",
    "\n",
    "In a survey of first year BI students the students were asked how many hours they studied each week.\n",
    "The results were as follows:\n",
    "\n",
    "........All students: µ = 11.0 hours, σ = 8.0 hours\\\n",
    "....Male students: µ = 10.6 hours, σ = 8.2 hours\\\n",
    "Female students: µ = 11.3 hours, σ = 7.9 hours\n",
    "\n",
    "Suppose that the number of hours studied follows the Normal distribution.\n",
    "\n",
    "# a)\n",
    "The proportion of all students studying more than 15 hours a week is:\n",
    "\n",
    "Let's use the formula:\n",
    "# $z=\\frac{\\mu-x}{\\sigma}$"
   ]
  },
  {
   "cell_type": "code",
   "execution_count": 12,
   "metadata": {},
   "outputs": [
    {
     "data": {
      "image/png": "[encoded data removed]",
      "text/latex": [
       "$\\displaystyle 0.3085375387259869$"
      ],
      "text/plain": [
       "0.3085375387259869"
      ]
     },
     "execution_count": 12,
     "metadata": {},
     "output_type": "execute_result"
    }
   ],
   "source": [
    "# Enter value for µ\n",
    "µ = 11.0\n",
    "\n",
    "# Enter value for σ\n",
    "σ = 8.0\n",
    "\n",
    "# x = hours\n",
    "x = 15\n",
    "\n",
    "# The formula for z\n",
    "z = ((µ - x)/σ)\n",
    "\n",
    "# Z-score to P-value\n",
    "p = norm.cdf(z)\n",
    "p"
   ]
  },
  {
   "cell_type": "markdown",
   "metadata": {},
   "source": [
    "# c)\n",
    "The proportion of all students studying between 10 and 20 hours a week is:"
   ]
  },
  {
   "cell_type": "code",
   "execution_count": 13,
   "metadata": {},
   "outputs": [
    {
     "data": {
      "image/png": "[encoded data removed]",
      "text/latex": [
       "$\\displaystyle 0.4194437076933041$"
      ],
      "text/plain": [
       "0.4194437076933041"
      ]
     },
     "execution_count": 13,
     "metadata": {},
     "output_type": "execute_result"
    }
   ],
   "source": [
    "# Enter value for µ\n",
    "µ = 11.0\n",
    "\n",
    "# Enter value for σ\n",
    "σ = 8.0\n",
    "\n",
    "# Enter hours\n",
    "x = 20\n",
    "y = 10\n",
    "\n",
    "# The formula for z\n",
    "z  =  ((x - µ)/σ)\n",
    "zy =  ((y - µ)/σ)\n",
    "\n",
    "# Z-score to P-value\n",
    "p = norm.cdf(z) - norm.cdf(zy)\n",
    "p"
   ]
  },
  {
   "cell_type": "markdown",
   "metadata": {},
   "source": [
    "# d)\n",
    "The proportion of all female students studying between 15 and 25 hours a week is:"
   ]
  },
  {
   "cell_type": "code",
   "execution_count": 14,
   "metadata": {},
   "outputs": [
    {
     "data": {
      "image/png": "[encoded data removed]",
      "text/latex": [
       "$\\displaystyle 0.2783222528405658$"
      ],
      "text/plain": [
       "0.2783222528405658"
      ]
     },
     "execution_count": 14,
     "metadata": {},
     "output_type": "execute_result"
    }
   ],
   "source": [
    "# Enter value for µ\n",
    "µ = 11.3\n",
    "\n",
    "# Enter value for σ\n",
    "σ = 7.9\n",
    "\n",
    "# Enter hours\n",
    "x = 25\n",
    "y = 15\n",
    "\n",
    "# The formula for z\n",
    "z  =  ((x - µ)/σ)\n",
    "zy =  ((y - µ)/σ)\n",
    "\n",
    "# Z-score to P-value\n",
    "p = norm.cdf(z) - norm.cdf(zy)\n",
    "p"
   ]
  },
  {
   "cell_type": "markdown",
   "metadata": {},
   "source": [
    "# e)\n",
    "Ruth wants to be amongst the 15% of all females who study the most. How many hours a week\n",
    "must she study to achieve this?\n",
    "\n",
    "Female students: µ = 11.3 hours, σ = 7.9 hours"
   ]
  },
  {
   "cell_type": "code",
   "execution_count": 15,
   "metadata": {},
   "outputs": [
    {
     "name": "stdout",
     "output_type": "stream",
     "text": [
      "She needs to study 19.48782377700094 hours to be top 15%\n"
     ]
    }
   ],
   "source": [
    "µ = 11.3\n",
    "σ = 7.9\n",
    "a = 1 - 0.15\n",
    "\n",
    "z = norm.ppf(a)\n",
    "\n",
    "x = µ + (σ * z)\n",
    "\n",
    "print(f'She needs to study {x} hours to be top 15%')"
   ]
  },
  {
   "cell_type": "markdown",
   "metadata": {},
   "source": [
    "# f)\n",
    "You meet a group of nine male students on their way to a Statistics class. What is the probability\n",
    "that the average number of hours a week studied by the group is more than 11 hours?"
   ]
  },
  {
   "cell_type": "markdown",
   "metadata": {},
   "source": [
    "#  $z=\\frac{\\mu-\\bar{x}}{\\sigma_{\\bar{x}}}$"
   ]
  },
  {
   "cell_type": "code",
   "execution_count": 16,
   "metadata": {},
   "outputs": [
    {
     "name": "stdout",
     "output_type": "stream",
     "text": [
      "-0.1463414634146343\n",
      "0.44182591755031747\n"
     ]
    }
   ],
   "source": [
    "# P(x̅ > 11)\n",
    "# Convert x̅ to z-value\n",
    "# Male students: µ = 10.6 hours, σ = 8.2 hours\n",
    "\n",
    "n = 9\n",
    "x = 11\n",
    "µ = 10.6\n",
    "σ = 8.2\n",
    "\n",
    "a = σ/sqrt(n)\n",
    "z = (µ - x)/a\n",
    "\n",
    "print(z)\n",
    "print(norm.cdf(z))"
   ]
  },
  {
   "cell_type": "markdown",
   "metadata": {},
   "source": [
    "1 - 0.1463, blue, Z-P = 0.4418"
   ]
  },
  {
   "cell_type": "markdown",
   "metadata": {},
   "source": [
    "![green-divider](https://user-images.githubusercontent.com/7065401/52071924-c003ad80-2562-11e9-8297-1c6595f8a7ff.png)"
   ]
  },
  {
   "cell_type": "markdown",
   "metadata": {},
   "source": [
    "# Confidence interval and the Margin of error for 90%,95% and 99%\n",
    "\n",
    "$C I=\\hat{p} \\pm Z^{*} \\sqrt{\\frac{\\hat{p}(1-\\hat{p})}{n}}$\n",
    "\n",
    "Use calculator to find Zα\n",
    "\n",
    "90% = (1 - (0.10/2)) = 0.95,  blue, INV, Z-P = 1.645\\\n",
    "95% = (1 - (0.05/2)) = 0.975, blue, INV, Z-P = 1.96\\\n",
    "99% = (1 - (0.01/2)) = 0.995, blue, INV, Z-P = 2.5758"
   ]
  },
  {
   "cell_type": "code",
   "execution_count": 17,
   "metadata": {},
   "outputs": [
    {
     "name": "stdout",
     "output_type": "stream",
     "text": [
      "Confidence level:    0.08528909090909091\n",
      "Margin Error of 95%: 0.1650594601728198\n",
      "\n",
      "Confidence level range from -0.0797703692637289 to 0.25034855108191073\n"
     ]
    }
   ],
   "source": [
    "n = 11\n",
    "x = 0.93818\n",
    "α = (1 - (0.05/2))\n",
    "\n",
    "p = x/n\n",
    "Zα = norm.ppf(α)\n",
    "CI = Zα*math.sqrt((p*(1-p)/n))\n",
    "\n",
    "print(f'Confidence level:    {p}')\n",
    "print(f'Margin Error of 95%: {CI}')\n",
    "print()\n",
    "print(f'Confidence level range from {p-CI} to {p+CI}')"
   ]
  },
  {
   "cell_type": "markdown",
   "metadata": {},
   "source": [
    "![green-divider](https://user-images.githubusercontent.com/7065401/52071924-c003ad80-2562-11e9-8297-1c6595f8a7ff.png)"
   ]
  },
  {
   "cell_type": "markdown",
   "metadata": {},
   "source": [
    "# Confidence interval MEAN and the Margin of error.\n",
    "\n",
    "\n",
    "Example:\n",
    "    A company records 30 deliveries, record delivery time for each. Calculate at 95% level\n",
    "        \n",
    "        x̅ = 9.2 days\n",
    "        s = 3.7 days\n",
    "        n = 30\n",
    "\n",
    "t = Calculator: df, BLUE, INVERT, (df,t-P), 0.975, = 2.0452\n",
    "\n",
    "# $CI=\\bar{x} \\pm t_{\\alpha / 2} \\cdot \\frac{s}{\\sqrt{n}}$"
   ]
  },
  {
   "cell_type": "code",
   "execution_count": 18,
   "metadata": {},
   "outputs": [
    {
     "name": "stdout",
     "output_type": "stream",
     "text": [
      "Confidence level:    9.2\n",
      "Margin Error:        1.3816027060049696\n",
      "\n",
      "Confidence level range from 7.81839729399503 to 10.581602706004968\n"
     ]
    }
   ],
   "source": [
    "α = 1 - (0.05/2)\n",
    "x̅ = 9.2\n",
    "s = 3.7\n",
    "n = 30\n",
    "\n",
    "df = n-1\n",
    "c = t.ppf(α, df)\n",
    "a = (c*(s/math.sqrt(n)))\n",
    "\n",
    "print(f'Confidence level:    {x̅}')\n",
    "print(f'Margin Error:        {a}')\n",
    "print()\n",
    "print(f'Confidence level range from {x̅-a} to {x̅+a}')"
   ]
  },
  {
   "cell_type": "markdown",
   "metadata": {},
   "source": [
    "![green-divider](https://user-images.githubusercontent.com/7065401/52071924-c003ad80-2562-11e9-8297-1c6595f8a7ff.png)"
   ]
  },
  {
   "cell_type": "markdown",
   "metadata": {},
   "source": [
    "# Another example of confidence interval MEAN and the Margin of error.\n",
    "\n",
    "Parking fees in parking house at Skedsmo Senter.\n",
    "Recordings on 44 randomly chosen days.\n",
    "\n",
    "Daily earnings:\\\n",
    "x̅ = 1260\\\n",
    "s = 150\n",
    "\n",
    "a) Calculate a 90% CI for mean daily earnings. Can we conclude that average daily earnigns are over 1200kr?\n",
    "    \n",
    "    We know that\n",
    "    n = 44\n",
    "    x̅ = 1260\n",
    "    s = 150"
   ]
  },
  {
   "cell_type": "code",
   "execution_count": 19,
   "metadata": {},
   "outputs": [
    {
     "name": "stdout",
     "output_type": "stream",
     "text": [
      "Confidence level:    1260\n",
      "Margin Error:        38.01464157333029\n",
      "\n",
      "Confidence level range from 1221.9853584266698 to 1298.0146415733302\n"
     ]
    }
   ],
   "source": [
    "α = 1 - (0.10/2)\n",
    "x̅ = 1260\n",
    "s = 150\n",
    "n = 44\n",
    "\n",
    "df = n-1\n",
    "µ = t.ppf(α, df)\n",
    "a = (µ*(s/math.sqrt(n)))\n",
    "\n",
    "print(f'Confidence level:    {x̅}')\n",
    "print(f'Margin Error:        {a}')\n",
    "print()\n",
    "print(f'Confidence level range from {x̅-a} to {x̅+a}')"
   ]
  },
  {
   "cell_type": "markdown",
   "metadata": {},
   "source": [
    "![green-divider](https://user-images.githubusercontent.com/7065401/52071924-c003ad80-2562-11e9-8297-1c6595f8a7ff.png)"
   ]
  },
  {
   "cell_type": "markdown",
   "metadata": {},
   "source": [
    "# Hypothesis tests"
   ]
  },
  {
   "cell_type": "markdown",
   "metadata": {},
   "source": [
    "# Example:\n",
    "\n",
    "Hypothesis test for one proportion [Z-test].\n",
    "In 2019 - 18% of population smoked.\n",
    "In 2020 - a survey showed that 145 of 970 smoked. 145/970 = 15%\n",
    "\n",
    "Test at the 5% level whether the proportion of smokers has decreased.\n",
    "\n",
    "# $z=\\frac{\\hat{p}-p_{0}}{\\sqrt{\\frac{p_{0}\\left(1-p_{0}\\right)}{n}}}$"
   ]
  },
  {
   "cell_type": "code",
   "execution_count": 20,
   "metadata": {},
   "outputs": [],
   "source": [
    "# Use calculator to find Zα\n",
    "# α , Blue, Inv, Z-P\n",
    "Zα = -1.645"
   ]
  },
  {
   "cell_type": "code",
   "execution_count": 21,
   "metadata": {},
   "outputs": [
    {
     "name": "stdout",
     "output_type": "stream",
     "text": [
      "z = -2.4320020860068072\n",
      "Zα = -1.6448536269514729\n",
      "\n",
      "z is less than Zα - we reject H0 and accept HA.\n",
      "We are more than 0.95 % sure that the probability of smokers has decreased\n"
     ]
    }
   ],
   "source": [
    "# Insert the numbers, H0, α, and calculate tα using your calculator!\n",
    "\n",
    "H0 = 0.18\n",
    "p0 = 0.18\n",
    "α = 0.05\n",
    "n = 970\n",
    "p̂ = 0.15\n",
    "\n",
    "z = (p̂ - p0)/sqrt((p0*(1-p0))/n)\n",
    "\n",
    "Zα = norm.ppf(α)\n",
    "\n",
    "print(f'z = {z}')\n",
    "print(f'Zα = {Zα}')\n",
    "print('')\n",
    "\n",
    "if z < Zα:\n",
    "    print('z is less than Zα - we reject H0 and accept HA.')\n",
    "    print(f'We are more than {1-α} % sure that the probability of smokers has decreased')\n",
    "else:\n",
    "    print('z is more than Za - we keep H0 and reject HA.')\n",
    "    print(f'We are more than {1-α} % sure that the probability of smokers has increased')\n",
    "    "
   ]
  },
  {
   "cell_type": "markdown",
   "metadata": {},
   "source": [
    "# Example 2\n",
    "\n",
    "Bottles of a certain medicine are supposed to contain 9.0 grams of medicine. A sample of 8 bottles were weighted. Results were:\n",
    "\n",
    "9.2, 8.7, 8.9, 8.6, 8.8, 8.7, 9.0, 8.5\n",
    "\n",
    "Can we include, at a 1% level that the bottling function needs adjustment?\n",
    "\n",
    "# $ t =\\frac{\\left(\\bar{x}-\\mu_{0}\\right) \\sqrt{n}}{S} $"
   ]
  },
  {
   "cell_type": "code",
   "execution_count": 22,
   "metadata": {},
   "outputs": [],
   "source": [
    "# Calculate tα on your calcualtor:\n",
    "# tα = df , Blue, Inv, dt/t-p, α = \n",
    "tα = -2.998"
   ]
  },
  {
   "cell_type": "code",
   "execution_count": 23,
   "metadata": {},
   "outputs": [
    {
     "name": "stdout",
     "output_type": "stream",
     "text": [
      "t = -2.4944382578492856\n",
      "tα = -2.9979515668685286\n",
      "t is not in the rejection area. Therefor we keep H0\n"
     ]
    }
   ],
   "source": [
    "# Insert the numbers, H0, α, and calculate tα using your calculator!\n",
    "\n",
    "medicine = pd.Series([9.2, 8.7, 8.9, 8.6, 8.8, 8.7, 9.0, 8.5])\n",
    "H0 = 9\n",
    "α = 0.01\n",
    "n = len(medicine)\n",
    "df = n-1\n",
    "x̅ = medicine.mean()\n",
    "s = medicine.std()\n",
    "\n",
    "tα = t.ppf(α, df)\n",
    "\n",
    "tt = ((x̅ - H0)*sqrt(n))/s\n",
    "\n",
    "print(f't = {tt}')\n",
    "print(f'tα = {tα}')\n",
    "\n",
    "if tt > tα:\n",
    "    print('t is not in the rejection area. Therefor we keep H0')\n",
    "else:\n",
    "    print('t is in the rejection area. Therefor we keep HA')\n",
    "        "
   ]
  },
  {
   "cell_type": "markdown",
   "metadata": {},
   "source": [
    "# Example 3\n",
    "\n",
    "Average score test (over time) for a math test is 56.3%. 45 students attend an extended tutorial session just before the test. Their results:\n",
    "\n",
    "x̅ = 62.7%\\\n",
    "s = 7.2%\n",
    "\n",
    "Can we conclude, at the 5% level, that their score was above average?\n",
    "\n",
    "# $ t = \\frac{\\left(\\bar{x}-\\mu_{0}\\right) \\sqrt{n}}{S} $"
   ]
  },
  {
   "cell_type": "code",
   "execution_count": 24,
   "metadata": {},
   "outputs": [],
   "source": [
    "# Calculate tα on your calcualtor:\n",
    "# tα = df , Blue, Inv, df/t-p, 0.95\n",
    "tα = 1.6802"
   ]
  },
  {
   "cell_type": "code",
   "execution_count": 25,
   "metadata": {},
   "outputs": [
    {
     "data": {
      "image/png": "[encoded data removed]",
      "text/latex": [
       "$\\displaystyle -2.9979515668685286$"
      ],
      "text/plain": [
       "-2.9979515668685286"
      ]
     },
     "execution_count": 25,
     "metadata": {},
     "output_type": "execute_result"
    }
   ],
   "source": [
    "tα = t.ppf(α, df)\n",
    "tα"
   ]
  },
  {
   "cell_type": "code",
   "execution_count": 26,
   "metadata": {},
   "outputs": [
    {
     "name": "stdout",
     "output_type": "stream",
     "text": [
      "t = 5.962847939999445\n",
      "tα = 1.6802299753652514\n",
      "t is in the rejection area. Therefor we keep HA\n"
     ]
    }
   ],
   "source": [
    "# Write down everything we know.\n",
    "# Question is about the averge (mean)! We need to calculate using the confidence interval MEAN.\n",
    "\n",
    "H0 = 56.3\n",
    "n = 45\n",
    "x̅ = 62.7\n",
    "s = 7.2\n",
    "α = 0.95\n",
    "df = n-1\n",
    "\n",
    "tα = t.ppf(α, df)\n",
    "\n",
    "tt = ((x̅ - H0)*sqrt(n))/s\n",
    "\n",
    "print(f't = {tt}')\n",
    "print(f'tα = {tα}')\n",
    "\n",
    "if tt < tα:\n",
    "    print('t is not in the rejection area. Therefor we keep H0')\n",
    "else:\n",
    "    print('t is in the rejection area. Therefor we keep HA')"
   ]
  },
  {
   "cell_type": "markdown",
   "metadata": {},
   "source": [
    "![green-divider](https://user-images.githubusercontent.com/7065401/52071924-c003ad80-2562-11e9-8297-1c6595f8a7ff.png)"
   ]
  },
  {
   "cell_type": "markdown",
   "metadata": {},
   "source": [
    "# Bionomial distribution\n",
    "\n",
    "Example:\n",
    "John sells subscriptions for a local newspaper by phoning potential customers. His experience is that\n",
    "20% of the people he calls buy a subscription. One evening he phones 10 potential customers. He is\n",
    "paid 500 kr for each subscription he sells.\n",
    "\n",
    "a) The probability that he sells exactly three subscriptions is:\n",
    "\n",
    "$P(X)={ }_{n} C_{x} p^{x}(1-p)^{n-x}$"
   ]
  },
  {
   "cell_type": "code",
   "execution_count": 27,
   "metadata": {},
   "outputs": [
    {
     "name": "stdout",
     "output_type": "stream",
     "text": [
      "The probability is: \n",
      "0.2013265920000001\n"
     ]
    }
   ],
   "source": [
    "# n = no of trials\n",
    "# x = no of successes\n",
    "# p = probability of success\n",
    "\n",
    "n = 10\n",
    "x = 3\n",
    "p = 0.2\n",
    "\n",
    "print('The probability is: ')\n",
    "print(comb(n,x)*p**x*(1-p)**(n-x))"
   ]
  },
  {
   "cell_type": "markdown",
   "metadata": {},
   "source": [
    "b) The probability that he sells at least one subscription is:"
   ]
  },
  {
   "cell_type": "code",
   "execution_count": 28,
   "metadata": {},
   "outputs": [
    {
     "name": "stdout",
     "output_type": "stream",
     "text": [
      "The probability is: \n",
      "0.2684354560000001\n"
     ]
    }
   ],
   "source": [
    "# n = no of trials\n",
    "# x = no of successes\n",
    "# p = probability of success\n",
    "\n",
    "n = 10\n",
    "x = 1\n",
    "p = 0.2\n",
    "\n",
    "print('The probability is: ')\n",
    "print(comb(n,x)*p**x*(1-p)**(n-x))"
   ]
  },
  {
   "cell_type": "markdown",
   "metadata": {},
   "source": [
    "![green-divider](https://user-images.githubusercontent.com/7065401/52071924-c003ad80-2562-11e9-8297-1c6595f8a7ff.png)"
   ]
  },
  {
   "cell_type": "markdown",
   "metadata": {},
   "source": [
    "# Comparing groups\n",
    "\n",
    "1. Z-test for two proportions.\n",
    "\n",
    "\n",
    "Example:\n",
    "Z-test for two proportions.\n",
    "\n",
    "Random sample for 1000 adults.\n",
    "Gender and smoking habits.\n",
    "\n",
    "\n",
    "Problem:\n",
    "Is the proportion of female smokers larger than the male?"
   ]
  },
  {
   "cell_type": "code",
   "execution_count": 29,
   "metadata": {},
   "outputs": [],
   "source": [
    "smokers = {    \n",
    "    'Gender':['F', 'M'],\n",
    "    'Smoker':[82,64],\n",
    "    'Non-smoker':[428, 426]\n",
    "}\n",
    "\n",
    "df = pd.DataFrame(smokers)\n",
    "\n",
    "df.set_index('Gender', inplace=True)"
   ]
  },
  {
   "cell_type": "code",
   "execution_count": 30,
   "metadata": {},
   "outputs": [
    {
     "data": {
      "text/html": [
       "<div>\n",
       "<style scoped>\n",
       "    .dataframe tbody tr th:only-of-type {\n",
       "        vertical-align: middle;\n",
       "    }\n",
       "\n",
       "    .dataframe tbody tr th {\n",
       "        vertical-align: top;\n",
       "    }\n",
       "\n",
       "    .dataframe thead th {\n",
       "        text-align: right;\n",
       "    }\n",
       "</style>\n",
       "<table border=\"1\" class=\"dataframe\">\n",
       "  <thead>\n",
       "    <tr style=\"text-align: right;\">\n",
       "      <th></th>\n",
       "      <th>Smoker</th>\n",
       "      <th>Non-smoker</th>\n",
       "    </tr>\n",
       "    <tr>\n",
       "      <th>Gender</th>\n",
       "      <th></th>\n",
       "      <th></th>\n",
       "    </tr>\n",
       "  </thead>\n",
       "  <tbody>\n",
       "    <tr>\n",
       "      <th>F</th>\n",
       "      <td>82</td>\n",
       "      <td>428</td>\n",
       "    </tr>\n",
       "    <tr>\n",
       "      <th>M</th>\n",
       "      <td>64</td>\n",
       "      <td>426</td>\n",
       "    </tr>\n",
       "  </tbody>\n",
       "</table>\n",
       "</div>"
      ],
      "text/plain": [
       "        Smoker  Non-smoker\n",
       "Gender                    \n",
       "F           82         428\n",
       "M           64         426"
      ]
     },
     "execution_count": 30,
     "metadata": {},
     "output_type": "execute_result"
    }
   ],
   "source": [
    "df"
   ]
  },
  {
   "cell_type": "markdown",
   "metadata": {},
   "source": [
    "Is the proportion of female smokers larger than the male?\n",
    "\n",
    "We use this formula:\n",
    "\n",
    "\n",
    "$z=\\frac{\\hat{p}_{1}-\\hat{\\rho}_{2}}{\\sqrt{\\frac{p(1-p)}{n_{1}}+\\frac{\\rho(1-\\rho)}{n_{2}}}}$\n",
    "\n",
    "H0 = p̂f = p̂m\\\n",
    "HA = p̂f != p̂f, p̂f > p̂f, p̂f < p̂f"
   ]
  },
  {
   "cell_type": "markdown",
   "metadata": {},
   "source": [
    "Suppose we test at a 5% level (x̅ = 0.05)"
   ]
  },
  {
   "cell_type": "code",
   "execution_count": 31,
   "metadata": {},
   "outputs": [
    {
     "name": "stdout",
     "output_type": "stream",
     "text": [
      "Zα = 1.6448536269514722\n",
      "z is 1.350774503625625\n",
      "\n",
      "z is not in the rejection area - therefor we keep H0.\n"
     ]
    }
   ],
   "source": [
    "# fs = female smokers\n",
    "# ms = male smokers\n",
    "# f = females\n",
    "# m = males \n",
    "\n",
    "fs = df.iloc[0,0]\n",
    "fm = df.iloc[1,0]\n",
    "\n",
    "f = df.iloc[0,1] + df.iloc[0,0]\n",
    "m = df.iloc[1,1] + df.iloc[1,0]\n",
    "\n",
    "p̂f = fs/f\n",
    "p̂m = fm/m\n",
    "\n",
    "p = (fs + fm)/(f + m)\n",
    "\n",
    "# α = 0.05\n",
    "\n",
    "# Calculate critical value on your calcualtor:\n",
    "# Zα = 0.95 , Blue, Inv, Z-P\n",
    "Zα = norm.ppf(0.95)\n",
    "\n",
    "z = (p̂f - p̂m)/sqrt(\n",
    "    (p*(1-p))/f + (p*(1-p))/m\n",
    ")\n",
    "\n",
    "print(f'Zα = {Zα}')\n",
    "print(f'z is {z}')\n",
    "print()\n",
    "\n",
    "if Zα > z:\n",
    "    print('z is not in the rejection area - therefor we keep H0.')\n",
    "else:\n",
    "    print('z is in the rejection area - there for we keep HA.')"
   ]
  },
  {
   "cell_type": "markdown",
   "metadata": {},
   "source": [
    "------------"
   ]
  },
  {
   "cell_type": "markdown",
   "metadata": {},
   "source": [
    "Problem 2\n",
    "\n",
    "A survey asked randomly selected subjects if they agreed with the statement \"It is morally wrong for married people to have an affair\". The results of the survey are presented in the table below."
   ]
  },
  {
   "cell_type": "code",
   "execution_count": 32,
   "metadata": {},
   "outputs": [],
   "source": [
    "# Remember to add the lowest numbers firsts! So the number of disagree is bigger than agree.\n",
    "\n",
    "people = {    \n",
    "    'Gender':['F', 'M'],\n",
    "    'Disagree':[40, 58],\n",
    "    'Agree':[351,357],\n",
    "}\n",
    "\n",
    "df = pd.DataFrame(people)\n",
    "\n",
    "df.set_index('Gender', inplace=True)"
   ]
  },
  {
   "cell_type": "code",
   "execution_count": 33,
   "metadata": {},
   "outputs": [
    {
     "data": {
      "text/html": [
       "<div>\n",
       "<style scoped>\n",
       "    .dataframe tbody tr th:only-of-type {\n",
       "        vertical-align: middle;\n",
       "    }\n",
       "\n",
       "    .dataframe tbody tr th {\n",
       "        vertical-align: top;\n",
       "    }\n",
       "\n",
       "    .dataframe thead th {\n",
       "        text-align: right;\n",
       "    }\n",
       "</style>\n",
       "<table border=\"1\" class=\"dataframe\">\n",
       "  <thead>\n",
       "    <tr style=\"text-align: right;\">\n",
       "      <th></th>\n",
       "      <th>Disagree</th>\n",
       "      <th>Agree</th>\n",
       "    </tr>\n",
       "    <tr>\n",
       "      <th>Gender</th>\n",
       "      <th></th>\n",
       "      <th></th>\n",
       "    </tr>\n",
       "  </thead>\n",
       "  <tbody>\n",
       "    <tr>\n",
       "      <th>F</th>\n",
       "      <td>40</td>\n",
       "      <td>351</td>\n",
       "    </tr>\n",
       "    <tr>\n",
       "      <th>M</th>\n",
       "      <td>58</td>\n",
       "      <td>357</td>\n",
       "    </tr>\n",
       "  </tbody>\n",
       "</table>\n",
       "</div>"
      ],
      "text/plain": [
       "        Disagree  Agree\n",
       "Gender                 \n",
       "F             40    351\n",
       "M             58    357"
      ]
     },
     "execution_count": 33,
     "metadata": {},
     "output_type": "execute_result"
    }
   ],
   "source": [
    "df"
   ]
  },
  {
   "cell_type": "markdown",
   "metadata": {},
   "source": [
    "A) test the claim that there is a difference in attitude between the males and the females at a 10% level."
   ]
  },
  {
   "cell_type": "code",
   "execution_count": 34,
   "metadata": {},
   "outputs": [],
   "source": [
    "# Because they are asking for a DIFFERENCE, we need to use α/2 and not just α."
   ]
  },
  {
   "cell_type": "code",
   "execution_count": 35,
   "metadata": {},
   "outputs": [
    {
     "name": "stdout",
     "output_type": "stream",
     "text": [
      "Zα = -1.6448536269514729\n",
      "z is -1.6262455564329228\n",
      "\n",
      "z is not in the rejection area - therefor we keep H0. We connot conclude that...\n"
     ]
    }
   ],
   "source": [
    "fs = df.iloc[0,0]\n",
    "fm = df.iloc[1,0]\n",
    "\n",
    "f = df.iloc[0,1] + df.iloc[0,0]\n",
    "m = df.iloc[1,1] + df.iloc[1,0]\n",
    "\n",
    "p̂f = fs/f\n",
    "p̂m = fm/m\n",
    "\n",
    "p = (fs + fm)/(f + m)\n",
    "\n",
    "# α =   0.10\n",
    "# α/2 = 0.05\n",
    "\n",
    "# Calculate critical value on your calcualtor:\n",
    "# Zα = 0.05 , Blue, Inv, Z-P\n",
    "Zα = norm.ppf(0.05)\n",
    "\n",
    "z = (p̂f - p̂m)/sqrt(\n",
    "    (p*(1-p))/f + (p*(1-p))/m\n",
    ")\n",
    "\n",
    "print(f'Zα = {Zα}')\n",
    "print(f'z is {z}')\n",
    "print()\n",
    "\n",
    "if Zα < z:\n",
    "    print('z is not in the rejection area - therefor we keep H0. We connot conclude that...')\n",
    "else:\n",
    "    print('z is in the rejection area - there for we keep HA.')"
   ]
  },
  {
   "cell_type": "markdown",
   "metadata": {},
   "source": [
    "![green-divider](https://user-images.githubusercontent.com/7065401/52071924-c003ad80-2562-11e9-8297-1c6595f8a7ff.png)"
   ]
  },
  {
   "cell_type": "markdown",
   "metadata": {},
   "source": [
    "# T-test for paired samples\n",
    "\n",
    "Statistics - t-test for paired samples\n",
    "We want to test whether demand is affected by where products are phced on shelves in supermarkets. 26 sinibr supermarkets were paired giving 13 pairs of simibr supermarkets in each pair. Comflakes boxes were pheed at eye-kvel in one supermarket and either above of bebw eye-kvel in the other. The saks were recorded for all supermarkets in the same week. Test at 5% level. The results are shown bebw:\n",
    "\n",
    "$$\n",
    "\\begin{array}{|l|r|r|r|r|r|r|r|r|r|r|r|r|r|}\n",
    "\\hline \\text { Eye-kvel } & 111 & 150 & 130 & 154 & 67 & 112 & 84 & 123 & 71 & 62 & 38 & 51 & 77 \\\\\n",
    "\\hline \\text { Other } & 71 & 121 & 133 & 126 & 93 & 49 & 109 & 96 & 27 & 58 & 36 & 37 & 69 \\\\\n",
    "\\hline \\text { Difference } & & & & & & & & & & & & & \\\\\n",
    "\\hline\n",
    "\\end{array}\n",
    "$$\n",
    "\n",
    "$\n",
    "\\begin{array}{l}\n",
    "\\text { Hypothesis test: } \\\\\n",
    "H_{0}: \\mu_{1}=\\mu_{2} \\\\\n",
    "       H_{n}: \\mu_{1}>\\mu_{2}\n",
    "\\end{array}\n",
    "$\n",
    "\n",
    "-------------\n",
    "\n",
    "Critical value = $d f=n_{1}+n_{2}-2$\n",
    "\n",
    "\n",
    "Test Statistics =  $t=\\frac{\\bar{x}_{1}-\\bar{x}_{2}}{S(\\hat{\\delta})}$\n",
    "\n",
    "$\n",
    "\\begin{array}{l}\n",
    "\\text { 1. Calculate the differences } \\\\\n",
    "\\text { 2. New sample of clifterences } \\\\\n",
    "\\text { 3. Calculake } \\bar{d} \\text { and } s(d)\n",
    "\\end{array}\n",
    "$"
   ]
  },
  {
   "cell_type": "code",
   "execution_count": 36,
   "metadata": {},
   "outputs": [],
   "source": [
    "df = pd.DataFrame({\n",
    "    \n",
    "    'Eye-kvel':    [111,150,130,154,67,112,84,123,71,62,38,51,77],\n",
    "    'Other':       [71,121,133,126,93,49,109,96,27,58,36, 37, 69],\n",
    "    'Difference':  [40,29, -3, 28,-26, 63,-25,27, 44,4, 2, 14, 8]\n",
    "\n",
    "})"
   ]
  },
  {
   "cell_type": "code",
   "execution_count": 37,
   "metadata": {},
   "outputs": [
    {
     "data": {
      "text/html": [
       "<div>\n",
       "<style scoped>\n",
       "    .dataframe tbody tr th:only-of-type {\n",
       "        vertical-align: middle;\n",
       "    }\n",
       "\n",
       "    .dataframe tbody tr th {\n",
       "        vertical-align: top;\n",
       "    }\n",
       "\n",
       "    .dataframe thead th {\n",
       "        text-align: right;\n",
       "    }\n",
       "</style>\n",
       "<table border=\"1\" class=\"dataframe\">\n",
       "  <thead>\n",
       "    <tr style=\"text-align: right;\">\n",
       "      <th></th>\n",
       "      <th>Eye-kvel</th>\n",
       "      <th>Other</th>\n",
       "      <th>Difference</th>\n",
       "    </tr>\n",
       "  </thead>\n",
       "  <tbody>\n",
       "    <tr>\n",
       "      <th>count</th>\n",
       "      <td>13.000000</td>\n",
       "      <td>13.000000</td>\n",
       "      <td>13.000000</td>\n",
       "    </tr>\n",
       "    <tr>\n",
       "      <th>mean</th>\n",
       "      <td>94.615385</td>\n",
       "      <td>78.846154</td>\n",
       "      <td>15.769231</td>\n",
       "    </tr>\n",
       "    <tr>\n",
       "      <th>std</th>\n",
       "      <td>37.790075</td>\n",
       "      <td>36.623868</td>\n",
       "      <td>26.166626</td>\n",
       "    </tr>\n",
       "    <tr>\n",
       "      <th>min</th>\n",
       "      <td>38.000000</td>\n",
       "      <td>27.000000</td>\n",
       "      <td>-26.000000</td>\n",
       "    </tr>\n",
       "    <tr>\n",
       "      <th>25%</th>\n",
       "      <td>67.000000</td>\n",
       "      <td>49.000000</td>\n",
       "      <td>2.000000</td>\n",
       "    </tr>\n",
       "    <tr>\n",
       "      <th>50%</th>\n",
       "      <td>84.000000</td>\n",
       "      <td>71.000000</td>\n",
       "      <td>14.000000</td>\n",
       "    </tr>\n",
       "    <tr>\n",
       "      <th>75%</th>\n",
       "      <td>123.000000</td>\n",
       "      <td>109.000000</td>\n",
       "      <td>29.000000</td>\n",
       "    </tr>\n",
       "    <tr>\n",
       "      <th>max</th>\n",
       "      <td>154.000000</td>\n",
       "      <td>133.000000</td>\n",
       "      <td>63.000000</td>\n",
       "    </tr>\n",
       "  </tbody>\n",
       "</table>\n",
       "</div>"
      ],
      "text/plain": [
       "         Eye-kvel       Other  Difference\n",
       "count   13.000000   13.000000   13.000000\n",
       "mean    94.615385   78.846154   15.769231\n",
       "std     37.790075   36.623868   26.166626\n",
       "min     38.000000   27.000000  -26.000000\n",
       "25%     67.000000   49.000000    2.000000\n",
       "50%     84.000000   71.000000   14.000000\n",
       "75%    123.000000  109.000000   29.000000\n",
       "max    154.000000  133.000000   63.000000"
      ]
     },
     "execution_count": 37,
     "metadata": {},
     "output_type": "execute_result"
    }
   ],
   "source": [
    "df.describe()"
   ]
  },
  {
   "cell_type": "code",
   "execution_count": 38,
   "metadata": {},
   "outputs": [],
   "source": [
    "d_mean = 15.769231\n",
    "s_std  = 26.166626"
   ]
  },
  {
   "cell_type": "code",
   "execution_count": 39,
   "metadata": {},
   "outputs": [
    {
     "name": "stdout",
     "output_type": "stream",
     "text": [
      "t = 2.17287360415272\n",
      "tα = 1.782287555649159\n",
      "The p-value is 0.025267198587794804\n",
      "\n",
      "t is in the rejection area. Therefor we keep HA\n"
     ]
    }
   ],
   "source": [
    "H0 = 0\n",
    "n = 13\n",
    "x̅ = d_mean\n",
    "s = s_std\n",
    "α = 0.95\n",
    "df = n-1\n",
    "\n",
    "tα = t.ppf(α, df)\n",
    "\n",
    "tt = ((x̅ - H0)*sqrt(n))/s\n",
    "\n",
    "p_value = 1 - (t.cdf(tt, df))\n",
    "\n",
    "print(f't = {tt}')\n",
    "print(f'tα = {tα}')\n",
    "print(f'The p-value is {p_value}')\n",
    "print()\n",
    "\n",
    "if tt < tα:\n",
    "    print('t is not in the rejection area. Therefor we keep H0')\n",
    "else:\n",
    "    print('t is in the rejection area. Therefor we keep HA')"
   ]
  },
  {
   "cell_type": "markdown",
   "metadata": {},
   "source": [
    "![green-divider](https://user-images.githubusercontent.com/7065401/52071924-c003ad80-2562-11e9-8297-1c6595f8a7ff.png)"
   ]
  },
  {
   "cell_type": "markdown",
   "metadata": {},
   "source": [
    "# Statistics - Practice Problem - Paired sample\n",
    "\n",
    "A company QuickSlim runs a weight reduction programme. To determine the effect of their programme they decided to test 10 randomly participants. They were weighed before and after the programme, and the results are shown in the table below. All weights in $\\mathrm{kg}$.\n",
    "\n",
    "\\begin{array}{|r|r|r|}\n",
    "\\hline & {\\text { Before }} & {\\text { After }} \\\\\n",
    "\\hline \\mathbf{1} & 88 & 84 \\\\\n",
    "\\hline 2 & 93 & 94 \\\\\n",
    "\\hline 3 & 68 & 63 \\\\\n",
    "\\hline 4 & 103 & 100 \\\\\n",
    "\\hline 5 & 126 & 115 \\\\\n",
    "\\hline 6 & 92 & 88 \\\\\n",
    "\\hline 7 & 78 & 80 \\\\\n",
    "\\hline 8 & 89 & 86 \\\\\n",
    "\\hline 9 & 83 & 80 \\\\\n",
    "\\hline 10 & 110 & 105 \\\\\n",
    "\\hline\n",
    "\\end{array}\n",
    "\n",
    "QuickSlim claims that the programme has a weight reduction effect. Test this claim at the $1 \\%$ level.\n",
    "\n",
    "1) Calculate the difference\n",
    "\n",
    "2) Calculate the d_mean, d_std\n",
    "\n",
    "3) Find tα\n",
    "\n",
    "4) Calculate t\n",
    "\n",
    "5) Conclude"
   ]
  },
  {
   "cell_type": "code",
   "execution_count": 40,
   "metadata": {},
   "outputs": [],
   "source": [
    "df = pd.DataFrame({\n",
    "    \n",
    "    'Before':      [88, 93,68,103,126,92,78,89,83,110],\n",
    "    'After':       [84, 94,63,100,115,88,80,86,80,105],\n",
    "    'Difference':  [4, -1, 5, 3,  11, 4, -2, 3, 3, 5 ]\n",
    "\n",
    "})"
   ]
  },
  {
   "cell_type": "code",
   "execution_count": 41,
   "metadata": {},
   "outputs": [
    {
     "data": {
      "text/html": [
       "<div>\n",
       "<style scoped>\n",
       "    .dataframe tbody tr th:only-of-type {\n",
       "        vertical-align: middle;\n",
       "    }\n",
       "\n",
       "    .dataframe tbody tr th {\n",
       "        vertical-align: top;\n",
       "    }\n",
       "\n",
       "    .dataframe thead th {\n",
       "        text-align: right;\n",
       "    }\n",
       "</style>\n",
       "<table border=\"1\" class=\"dataframe\">\n",
       "  <thead>\n",
       "    <tr style=\"text-align: right;\">\n",
       "      <th></th>\n",
       "      <th>Before</th>\n",
       "      <th>After</th>\n",
       "      <th>Difference</th>\n",
       "    </tr>\n",
       "  </thead>\n",
       "  <tbody>\n",
       "    <tr>\n",
       "      <th>count</th>\n",
       "      <td>10.000000</td>\n",
       "      <td>10.000000</td>\n",
       "      <td>10.000000</td>\n",
       "    </tr>\n",
       "    <tr>\n",
       "      <th>mean</th>\n",
       "      <td>93.000000</td>\n",
       "      <td>89.500000</td>\n",
       "      <td>3.500000</td>\n",
       "    </tr>\n",
       "    <tr>\n",
       "      <th>std</th>\n",
       "      <td>16.566365</td>\n",
       "      <td>14.713939</td>\n",
       "      <td>3.535534</td>\n",
       "    </tr>\n",
       "    <tr>\n",
       "      <th>min</th>\n",
       "      <td>68.000000</td>\n",
       "      <td>63.000000</td>\n",
       "      <td>-2.000000</td>\n",
       "    </tr>\n",
       "    <tr>\n",
       "      <th>25%</th>\n",
       "      <td>84.250000</td>\n",
       "      <td>81.000000</td>\n",
       "      <td>3.000000</td>\n",
       "    </tr>\n",
       "    <tr>\n",
       "      <th>50%</th>\n",
       "      <td>90.500000</td>\n",
       "      <td>87.000000</td>\n",
       "      <td>3.500000</td>\n",
       "    </tr>\n",
       "    <tr>\n",
       "      <th>75%</th>\n",
       "      <td>100.500000</td>\n",
       "      <td>98.500000</td>\n",
       "      <td>4.750000</td>\n",
       "    </tr>\n",
       "    <tr>\n",
       "      <th>max</th>\n",
       "      <td>126.000000</td>\n",
       "      <td>115.000000</td>\n",
       "      <td>11.000000</td>\n",
       "    </tr>\n",
       "  </tbody>\n",
       "</table>\n",
       "</div>"
      ],
      "text/plain": [
       "           Before       After  Difference\n",
       "count   10.000000   10.000000   10.000000\n",
       "mean    93.000000   89.500000    3.500000\n",
       "std     16.566365   14.713939    3.535534\n",
       "min     68.000000   63.000000   -2.000000\n",
       "25%     84.250000   81.000000    3.000000\n",
       "50%     90.500000   87.000000    3.500000\n",
       "75%    100.500000   98.500000    4.750000\n",
       "max    126.000000  115.000000   11.000000"
      ]
     },
     "execution_count": 41,
     "metadata": {},
     "output_type": "execute_result"
    }
   ],
   "source": [
    "df.describe()"
   ]
  },
  {
   "cell_type": "code",
   "execution_count": 42,
   "metadata": {},
   "outputs": [],
   "source": [
    "d_mean = 3.5\n",
    "s_std  = 3.535534"
   ]
  },
  {
   "cell_type": "code",
   "execution_count": 43,
   "metadata": {},
   "outputs": [
    {
     "name": "stdout",
     "output_type": "stream",
     "text": [
      "t = 3.130495085209003\n",
      "tα = 2.8214379233005493\n",
      "The p-value is 0.006056018051913359\n",
      "\n",
      "t is in the rejection area. Therefor we keep HA\n"
     ]
    }
   ],
   "source": [
    "H0 = 0\n",
    "n = 10\n",
    "x̅ = d_mean\n",
    "s = s_std\n",
    "α = 0.99\n",
    "df = n-1\n",
    "\n",
    "tα = t.ppf(α, df)\n",
    "\n",
    "tt = ((x̅ - H0)*sqrt(n))/s\n",
    "\n",
    "p_value = 1 - (t.cdf(tt, df))\n",
    "\n",
    "print(f't = {tt}')\n",
    "print(f'tα = {tα}')\n",
    "print(f'The p-value is {p_value}')\n",
    "print()\n",
    "\n",
    "if tt < tα:\n",
    "    print('t is not in the rejection area. Therefor we keep H0')\n",
    "else:\n",
    "    print('t is in the rejection area. Therefor we keep HA')"
   ]
  },
  {
   "cell_type": "code",
   "execution_count": null,
   "metadata": {},
   "outputs": [],
   "source": []
  },
  {
   "cell_type": "markdown",
   "metadata": {},
   "source": [
    "![green-divider](https://user-images.githubusercontent.com/7065401/52071924-c003ad80-2562-11e9-8297-1c6595f8a7ff.png)"
   ]
  },
  {
   "cell_type": "markdown",
   "metadata": {},
   "source": [
    "# T-test for two groups\n",
    "\n",
    "A class of 3td year BI students make up our students.\n",
    "78 female students with an average age of x̅f = 24.3 years.\n",
    "103 male students with an average age of x̅m = 27.8 years.\n",
    "\n",
    "Can we conclude, at the 5% level that the average age of male are higher?\n",
    "\n",
    "-------------\n",
    "\n",
    "$H_{0}: \\mu_{1}=\\mu_{2}$\n",
    "\n",
    "$\\begin{array}{lll}H_{A}: \\mu_{1} \\neq \\mu_{2} ,& \\mu_{1}>\\mu_{2} ,& \\mu_{1}<\\mu_{2}\\end{array}$\n",
    "\n",
    "-------------\n",
    "\n",
    "Critical value = $d f=n_{1}+n_{2}-2$\n",
    "\n",
    "\n",
    "Test Statistics =  $t=\\frac{\\bar{x}_{1}-\\bar{x}_{2}}{S(\\hat{\\delta})}$"
   ]
  },
  {
   "cell_type": "code",
   "execution_count": 44,
   "metadata": {},
   "outputs": [
    {
     "data": {
      "image/png": "[encoded data removed]",
      "text/latex": [
       "$\\displaystyle 2.8214379233005493$"
      ],
      "text/plain": [
       "2.8214379233005493"
      ]
     },
     "execution_count": 44,
     "metadata": {},
     "output_type": "execute_result"
    }
   ],
   "source": [
    "tα = t.ppf(α, df)\n",
    "tα"
   ]
  },
  {
   "cell_type": "code",
   "execution_count": 45,
   "metadata": {},
   "outputs": [
    {
     "name": "stdout",
     "output_type": "stream",
     "text": [
      "tα is 1.6534\n",
      "t is 2.397260273972603\n",
      "\n",
      "t is in the rejection area - we reject H0 and keep HA.    The male students are indeed older than the females.\n"
     ]
    }
   ],
   "source": [
    "f = 78\n",
    "x̅f = 24.3\n",
    "m = 103\n",
    "x̅m = 27.8\n",
    "\n",
    "𝑆𝛿̂ = 1.46\n",
    "\n",
    "# -2 is constant\n",
    "df = m + f - 2\n",
    "\n",
    "# α = 0.05\n",
    "# We need to find tα using Calc: (f+m), Blue, INV, df, 0.95\n",
    "tα = 1.6534\n",
    "\n",
    "t = (x̅m - x̅f)/𝑆𝛿̂\n",
    "\n",
    "print(f'tα is {tα}')\n",
    "print(f't is {t}')\n",
    "print()\n",
    "\n",
    "if t > tα:\n",
    "    print('t is in the rejection area - we reject H0 and keep HA.\\\n",
    "    The male students are indeed older than the females.')\n",
    "else:\n",
    "    print('t is not in the rejection area - we keep H0.\\\n",
    "    The male students are not older than the females.')"
   ]
  },
  {
   "cell_type": "markdown",
   "metadata": {},
   "source": [
    "![green-divider](https://user-images.githubusercontent.com/7065401/52071924-c003ad80-2562-11e9-8297-1c6595f8a7ff.png)"
   ]
  },
  {
   "cell_type": "markdown",
   "metadata": {},
   "source": [
    "Exam Question:\n",
    "\n",
    "In a $10 \\mathrm{~km}$ street race in New York the Age and finishing time were recorded. You would like to determine whether participants in their early twenties run faster than those in their late twenties. To test this you draw two random samples. The first sample consists of 10 participants from the age group $20-23$ years and the second consists of 11 participants from the age group $26-29$ years. Let the variable $X$ be the finishing time for the younger group, and $Y$ be the finishing time for the older group. The finishing times are shown in the table below:\n",
    "\n",
    "$\n",
    "\\begin{array}{ll}\n",
    "X & Y \\\\\n",
    "48 & 59 \\\\\n",
    "40 & 44 \\\\\n",
    "67 & 54 \\\\\n",
    "51 & 46 \\\\\n",
    "39 & 53 \\\\\n",
    "55 & 59 \\\\\n",
    "42 & 48 \\\\\n",
    "46 & 61 \\\\\n",
    "50 & 50 \\\\\n",
    "52 & 55 \\\\\n",
    "& 43\n",
    "\\end{array}\n",
    "$"
   ]
  },
  {
   "cell_type": "markdown",
   "metadata": {},
   "source": [
    "# a)\n",
    "\n",
    "Calculate the sample average for both samples. What do the samples suggest?"
   ]
  },
  {
   "cell_type": "code",
   "execution_count": 46,
   "metadata": {},
   "outputs": [
    {
     "name": "stdout",
     "output_type": "stream",
     "text": [
      "The speedtime of 20 to 23: \n",
      "49.0\n",
      "The speedtime of 26 to 29: \n",
      "52.0\n",
      "\n",
      "Conclution: The younger group runs faster\n"
     ]
    }
   ],
   "source": [
    "speedtime_of_20to23 = np.array([48,40,67,51,39,55,42,46,50,52])\n",
    "speedtime_of_26_29 = np.array([59,44,54,46,53,59,48,61,50,55,43])\n",
    "\n",
    "print('The speedtime of 20 to 23: ')\n",
    "print(np.mean(speedtime_of_20to23))\n",
    "print('The speedtime of 26 to 29: ')\n",
    "print(np.mean(speedtime_of_26_29))\n",
    "print()\n",
    "print('Conclution: The younger group runs faster')"
   ]
  },
  {
   "cell_type": "markdown",
   "metadata": {},
   "source": [
    "# b)\n",
    "\n",
    "Use a t-test for two independent samples to test at the $5 \\%$ level whether participants in the age group $20-23$ years run faster than the participants in the age group $26-29$ years. $S[\\hat{\\delta}]=3.18$."
   ]
  },
  {
   "cell_type": "code",
   "execution_count": 47,
   "metadata": {},
   "outputs": [
    {
     "name": "stdout",
     "output_type": "stream",
     "text": [
      "tα is -1.7291\n",
      "t is -0.9433962264150942\n",
      "\n",
      "t is not in the rejection area - we keep H0.\n"
     ]
    }
   ],
   "source": [
    "x̅y = 49.0\n",
    "x̅o = 52.0\n",
    "\n",
    "y = 10\n",
    "o = 11\n",
    "𝑆𝛿̂ = 3.18\n",
    "\n",
    "# -2 is constant\n",
    "df = o + y - 2\n",
    "\n",
    "# α = 0.05\n",
    "# We need to find tα using Calc: (df), Blue, INV, df, 0.05\n",
    "tα = -1.7291\n",
    "\n",
    "t = (x̅y - x̅o)/𝑆𝛿̂\n",
    "\n",
    "print(f'tα is {tα}')\n",
    "print(f't is {t}')\n",
    "print()\n",
    "\n",
    "if t < tα:\n",
    "    print('t is in the rejection area - we reject H0 and keep HA.')\n",
    "else:\n",
    "    print('t is not in the rejection area - we keep H0.')"
   ]
  },
  {
   "cell_type": "markdown",
   "metadata": {},
   "source": [
    "![green-divider](https://user-images.githubusercontent.com/7065401/52071924-c003ad80-2562-11e9-8297-1c6595f8a7ff.png)"
   ]
  },
  {
   "cell_type": "markdown",
   "metadata": {},
   "source": [
    "# Chi square tests\n",
    "\n",
    "Test for homogeneity\n",
    "\n",
    "$$\n",
    "\\begin{aligned}\n",
    "&\\text { How Bl-students travel to campus: }\\\\\n",
    "&\\begin{array}{|l|r|r|r|r|}\n",
    "\\hline \\begin{array}{c}\n",
    "\\text { O } \\\\\n",
    "\\text { (Observed) }\n",
    "\\end{array} & \\begin{array}{c}\n",
    "\\text { Public } \\\\\n",
    "\\text { transport }\n",
    "\\end{array} & \\text { Walk } & \\text { Other } & \\text { Total } \\\\\n",
    "\\hline \\text { Female } & 58 & 25 & 17 & 100 \\\\\n",
    "\\hline \\text { Male } & 60 & 9 & 11 & 80 \\\\\n",
    "\\hline \\text { Total } & 118 & 34 & 28 & 180 \\\\\n",
    "\\hline\n",
    "\\end{array}\n",
    "\\end{aligned}\n",
    "$$"
   ]
  },
  {
   "cell_type": "code",
   "execution_count": 48,
   "metadata": {},
   "outputs": [
    {
     "data": {
      "text/html": [
       "<div>\n",
       "<style scoped>\n",
       "    .dataframe tbody tr th:only-of-type {\n",
       "        vertical-align: middle;\n",
       "    }\n",
       "\n",
       "    .dataframe tbody tr th {\n",
       "        vertical-align: top;\n",
       "    }\n",
       "\n",
       "    .dataframe thead th {\n",
       "        text-align: right;\n",
       "    }\n",
       "</style>\n",
       "<table border=\"1\" class=\"dataframe\">\n",
       "  <thead>\n",
       "    <tr style=\"text-align: right;\">\n",
       "      <th></th>\n",
       "      <th>Expected</th>\n",
       "      <th>Public transport</th>\n",
       "      <th>Walk</th>\n",
       "      <th>Other</th>\n",
       "      <th>Total</th>\n",
       "    </tr>\n",
       "  </thead>\n",
       "  <tbody>\n",
       "    <tr>\n",
       "      <th>0</th>\n",
       "      <td>Female</td>\n",
       "      <td>58</td>\n",
       "      <td>25</td>\n",
       "      <td>17</td>\n",
       "      <td>100</td>\n",
       "    </tr>\n",
       "    <tr>\n",
       "      <th>1</th>\n",
       "      <td>Male</td>\n",
       "      <td>60</td>\n",
       "      <td>9</td>\n",
       "      <td>11</td>\n",
       "      <td>80</td>\n",
       "    </tr>\n",
       "    <tr>\n",
       "      <th>2</th>\n",
       "      <td>Total</td>\n",
       "      <td>118</td>\n",
       "      <td>34</td>\n",
       "      <td>28</td>\n",
       "      <td>180</td>\n",
       "    </tr>\n",
       "  </tbody>\n",
       "</table>\n",
       "</div>"
      ],
      "text/plain": [
       "  Expected  Public transport  Walk  Other  Total\n",
       "0   Female                58    25     17    100\n",
       "1     Male                60     9     11     80\n",
       "2    Total               118    34     28    180"
      ]
     },
     "execution_count": 48,
     "metadata": {},
     "output_type": "execute_result"
    }
   ],
   "source": [
    "ffp = 58\n",
    "fmp = 60\n",
    "ftp = 118\n",
    "\n",
    "ffw = 25\n",
    "fmw = 9\n",
    "fwt = 34\n",
    "\n",
    "ffo = 17\n",
    "fmo = 11\n",
    "fto = 28\n",
    "\n",
    "fft = 100\n",
    "fmt = 80\n",
    "ftt = 180\n",
    "\n",
    "table1 = pd.DataFrame({\n",
    "    \n",
    "    'Expected':    ['Female', 'Male', 'Total'],\n",
    "    'Public transport':    [ffp, fmp, ftp],\n",
    "    'Walk':                [ffw, fmw, fwt],\n",
    "    'Other':               [ffo, fmo, fto],\n",
    "    'Total':               [fft, fmt, ftt],\n",
    "\n",
    "})\n",
    "\n",
    "table1"
   ]
  },
  {
   "cell_type": "markdown",
   "metadata": {},
   "source": [
    "$\n",
    "\\text { Ho: Mode of transport is independent of gender. }\n",
    "$\n",
    "\n",
    "$\n",
    "\\text { HA: Mode of transport is gender dependent. }\n",
    "$\n",
    "\n",
    "\n",
    "$$\n",
    "\\text { What we would expect if the distribution was homogen. }\n",
    "$$\n",
    "\n",
    "$$\n",
    "\\begin{array}{|l|c|c|c|c|}\n",
    "\\hline \\begin{array}{l}\n",
    "\\text { E } \\\\\n",
    "\\text { (Expected) }\n",
    "\\end{array} & \\begin{array}{l}\n",
    "\\text { Public } \\\\\n",
    "\\text { transport }\n",
    "\\end{array} & \\text { Walk } & \\text { Other } & \\text { Total } \\\\\n",
    "\\hline \\text { Female } & & & & 100 \\\\\n",
    "\\hline \\text { Male } & & & & 80 \\\\\n",
    "\\hline \\text { Total } & 118 & 34 & 28 & 180 \\\\\n",
    "\\hline\n",
    "\\end{array}\n",
    "$$"
   ]
  },
  {
   "cell_type": "code",
   "execution_count": 49,
   "metadata": {},
   "outputs": [],
   "source": [
    "tp = 118\n",
    "tw = 34\n",
    "to = 28\n",
    "\n",
    "tf = 100\n",
    "tm = 80\n",
    "tt = 180\n",
    "\n",
    "fp = (tf / tt) *tp\n",
    "fw = (tf / tt) *tw\n",
    "fo = (tf / tt) *to\n",
    "\n",
    "mp = (tm / tt) *tp\n",
    "mw = (tm / tt) *tw\n",
    "mo = (tm / tt) *to"
   ]
  },
  {
   "cell_type": "code",
   "execution_count": 50,
   "metadata": {},
   "outputs": [
    {
     "data": {
      "text/html": [
       "<div>\n",
       "<style scoped>\n",
       "    .dataframe tbody tr th:only-of-type {\n",
       "        vertical-align: middle;\n",
       "    }\n",
       "\n",
       "    .dataframe tbody tr th {\n",
       "        vertical-align: top;\n",
       "    }\n",
       "\n",
       "    .dataframe thead th {\n",
       "        text-align: right;\n",
       "    }\n",
       "</style>\n",
       "<table border=\"1\" class=\"dataframe\">\n",
       "  <thead>\n",
       "    <tr style=\"text-align: right;\">\n",
       "      <th></th>\n",
       "      <th>Expected</th>\n",
       "      <th>Public transport</th>\n",
       "      <th>Walk</th>\n",
       "      <th>Other</th>\n",
       "      <th>Total</th>\n",
       "    </tr>\n",
       "  </thead>\n",
       "  <tbody>\n",
       "    <tr>\n",
       "      <th>0</th>\n",
       "      <td>Female</td>\n",
       "      <td>65.555556</td>\n",
       "      <td>18.888889</td>\n",
       "      <td>15.555556</td>\n",
       "      <td>100</td>\n",
       "    </tr>\n",
       "    <tr>\n",
       "      <th>1</th>\n",
       "      <td>Male</td>\n",
       "      <td>52.444444</td>\n",
       "      <td>15.111111</td>\n",
       "      <td>12.444444</td>\n",
       "      <td>80</td>\n",
       "    </tr>\n",
       "    <tr>\n",
       "      <th>2</th>\n",
       "      <td>Total</td>\n",
       "      <td>118.000000</td>\n",
       "      <td>34.000000</td>\n",
       "      <td>28.000000</td>\n",
       "      <td>180</td>\n",
       "    </tr>\n",
       "  </tbody>\n",
       "</table>\n",
       "</div>"
      ],
      "text/plain": [
       "  Expected  Public transport       Walk      Other  Total\n",
       "0   Female         65.555556  18.888889  15.555556    100\n",
       "1     Male         52.444444  15.111111  12.444444     80\n",
       "2    Total        118.000000  34.000000  28.000000    180"
      ]
     },
     "execution_count": 50,
     "metadata": {},
     "output_type": "execute_result"
    }
   ],
   "source": [
    "table2 = pd.DataFrame({\n",
    "    \n",
    "    'Expected':    ['Female', 'Male', 'Total'],\n",
    "    'Public transport':    [fp, mp, tp],\n",
    "    'Walk':                [fw, mw, tw],\n",
    "    'Other':               [fo, mo, to],\n",
    "    'Total':               [tf, tm, tt],\n",
    "\n",
    "})\n",
    "\n",
    "table2"
   ]
  },
  {
   "cell_type": "markdown",
   "metadata": {},
   "source": [
    "$\n",
    "\\begin{array}{c}\n",
    "\\text { Test statistic } x^{2} \\\\\n",
    "x^{2}=\\sum \\frac{(0-E)^{2}}{E}\n",
    "\\end{array}\n",
    "$"
   ]
  },
  {
   "cell_type": "code",
   "execution_count": 51,
   "metadata": {},
   "outputs": [
    {
     "name": "stdout",
     "output_type": "stream",
     "text": [
      "25\n",
      "18.88888888888889\n"
     ]
    }
   ],
   "source": [
    "print(ffw)\n",
    "print(fw)"
   ]
  },
  {
   "cell_type": "code",
   "execution_count": 52,
   "metadata": {},
   "outputs": [
    {
     "data": {
      "text/html": [
       "<div>\n",
       "<style scoped>\n",
       "    .dataframe tbody tr th:only-of-type {\n",
       "        vertical-align: middle;\n",
       "    }\n",
       "\n",
       "    .dataframe tbody tr th {\n",
       "        vertical-align: top;\n",
       "    }\n",
       "\n",
       "    .dataframe thead th {\n",
       "        text-align: right;\n",
       "    }\n",
       "</style>\n",
       "<table border=\"1\" class=\"dataframe\">\n",
       "  <thead>\n",
       "    <tr style=\"text-align: right;\">\n",
       "      <th></th>\n",
       "      <th>E</th>\n",
       "      <th>Public_transport</th>\n",
       "      <th>Walk</th>\n",
       "      <th>Other</th>\n",
       "    </tr>\n",
       "  </thead>\n",
       "  <tbody>\n",
       "    <tr>\n",
       "      <th>0</th>\n",
       "      <td>Female</td>\n",
       "      <td>0.870810</td>\n",
       "      <td>1.977124</td>\n",
       "      <td>0.134127</td>\n",
       "    </tr>\n",
       "    <tr>\n",
       "      <th>1</th>\n",
       "      <td>Male</td>\n",
       "      <td>1.088512</td>\n",
       "      <td>2.471405</td>\n",
       "      <td>0.167659</td>\n",
       "    </tr>\n",
       "  </tbody>\n",
       "</table>\n",
       "</div>"
      ],
      "text/plain": [
       "        E  Public_transport      Walk     Other\n",
       "0  Female          0.870810  1.977124  0.134127\n",
       "1    Male          1.088512  2.471405  0.167659"
      ]
     },
     "execution_count": 52,
     "metadata": {},
     "output_type": "execute_result"
    }
   ],
   "source": [
    "# See homogeneity table\n",
    "\n",
    "chi = pd.DataFrame({\n",
    "    \n",
    "    'E':    ['Female', 'Male'],\n",
    "    'Public_transport':    [((ffp-fp)**2)/fp,((fmp-mp)**2)/mp],\n",
    "    'Walk':                [((ffw-fw)**2)/fw,((fmw-mw)**2)/mw],\n",
    "    'Other':               [((ffo-fo)**2)/fo,((fmo-mo)**2)/mo],\n",
    "\n",
    "})\n",
    "\n",
    "chi"
   ]
  },
  {
   "cell_type": "code",
   "execution_count": 53,
   "metadata": {},
   "outputs": [
    {
     "data": {
      "image/png": "[encoded data removed]",
      "text/latex": [
       "$\\displaystyle 6.709637159948725$"
      ],
      "text/plain": [
       "6.709637159948725"
      ]
     },
     "execution_count": 53,
     "metadata": {},
     "output_type": "execute_result"
    }
   ],
   "source": [
    "# test_statistics = 𝑥2𝑥\n",
    "test_statistics = chi.Public_transport.sum() + chi.Walk.sum() + chi.Other.sum()\n",
    "test_statistics"
   ]
  },
  {
   "cell_type": "markdown",
   "metadata": {},
   "source": [
    "Critical value : df = (r-1)(c-1)\n",
    "\n",
    "r = # of rows\n",
    "c = # of columns\n",
    "\n",
    "So in this case:\n",
    "df = (2-1)(3-1) = 2\n",
    "\n",
    "find\n",
    "$x_{\\alpha}^{2}$\n",
    "\n",
    "https://www.coursehero.com/file/69265647/Chi-square-table-2pdf/"
   ]
  },
  {
   "cell_type": "markdown",
   "metadata": {},
   "source": [
    "$x^{2}=6.7 \\quad$ and $\\quad x_{x}^{2}=5.991$\n",
    "\n",
    "\n",
    "$x^{2}>x_{α}^{2} \\Rightarrow$ we reject $H_{0}$ and accept $H_{n} .$"
   ]
  },
  {
   "cell_type": "markdown",
   "metadata": {},
   "source": [
    "![green-divider](https://user-images.githubusercontent.com/7065401/52071924-c003ad80-2562-11e9-8297-1c6595f8a7ff.png)"
   ]
  },
  {
   "cell_type": "markdown",
   "metadata": {},
   "source": [
    "Example (Spring 2014$)$\n",
    "The table below shows the number of boats of different types that were advertised on Finn.no a certain month for the counties of $\\emptyset$ stfold and Vestfold:\n",
    "\n",
    "$$\n",
    "\\begin{array}{|l|c|c|c|c|}\n",
    "\\hline & \\text { Cabin eruiser } & \\text { Day eruiser } & \\text { Yacht } & \\text { Total } \\\\\n",
    "\\hline \\text { Ostfold } & 85 & 110 & 45 & 240 \\\\\n",
    "\\hline \\text { Vestfold } & 115 & 90 & 55 & 260 \\\\\n",
    "\\hline \\text { Total } & 200 & 200 & 100 & 500 \\\\\n",
    "\\hline\n",
    "\\end{array}\n",
    "$$\n",
    "\n",
    "Use a Chi-square test for independence to test whether there is a relationship between type of boat and county. Test at the $5 \\%$ level."
   ]
  },
  {
   "cell_type": "code",
   "execution_count": 54,
   "metadata": {},
   "outputs": [
    {
     "data": {
      "text/html": [
       "<div>\n",
       "<style scoped>\n",
       "    .dataframe tbody tr th:only-of-type {\n",
       "        vertical-align: middle;\n",
       "    }\n",
       "\n",
       "    .dataframe tbody tr th {\n",
       "        vertical-align: top;\n",
       "    }\n",
       "\n",
       "    .dataframe thead th {\n",
       "        text-align: right;\n",
       "    }\n",
       "</style>\n",
       "<table border=\"1\" class=\"dataframe\">\n",
       "  <thead>\n",
       "    <tr style=\"text-align: right;\">\n",
       "      <th></th>\n",
       "      <th></th>\n",
       "      <th>Cabin eruiser</th>\n",
       "      <th>Day eruiser</th>\n",
       "      <th>Yacht</th>\n",
       "      <th>Total</th>\n",
       "    </tr>\n",
       "  </thead>\n",
       "  <tbody>\n",
       "    <tr>\n",
       "      <th>0</th>\n",
       "      <td>Ostfold</td>\n",
       "      <td>85</td>\n",
       "      <td>110</td>\n",
       "      <td>45</td>\n",
       "      <td>240</td>\n",
       "    </tr>\n",
       "    <tr>\n",
       "      <th>1</th>\n",
       "      <td>Vestfold</td>\n",
       "      <td>115</td>\n",
       "      <td>90</td>\n",
       "      <td>55</td>\n",
       "      <td>260</td>\n",
       "    </tr>\n",
       "    <tr>\n",
       "      <th>2</th>\n",
       "      <td>Total</td>\n",
       "      <td>200</td>\n",
       "      <td>200</td>\n",
       "      <td>100</td>\n",
       "      <td>500</td>\n",
       "    </tr>\n",
       "  </tbody>\n",
       "</table>\n",
       "</div>"
      ],
      "text/plain": [
       "             Cabin eruiser  Day eruiser  Yacht  Total\n",
       "0   Ostfold             85          110     45    240\n",
       "1  Vestfold            115           90     55    260\n",
       "2     Total            200          200    100    500"
      ]
     },
     "execution_count": 54,
     "metadata": {},
     "output_type": "execute_result"
    }
   ],
   "source": [
    "ffp = 85\n",
    "fmp = 115\n",
    "ftp = 200\n",
    "\n",
    "ffw = 110\n",
    "fmw = 90\n",
    "fwt = 200\n",
    "\n",
    "ffo = 45\n",
    "fmo = 55\n",
    "fto = 100\n",
    "\n",
    "fft = 240\n",
    "fmt = 260\n",
    "ftt = 500\n",
    "\n",
    "boats = pd.DataFrame({\n",
    "    \n",
    "    ' ':    ['Ostfold', 'Vestfold', 'Total'],\n",
    "    'Cabin eruiser':    [ffp, fmp, ftp],\n",
    "    'Day eruiser':      [ffw, fmw, fwt],\n",
    "    'Yacht':            [ffo, fmo, fto],\n",
    "    'Total':            [fft, fmt, ftt],\n",
    "\n",
    "})\n",
    "\n",
    "boats"
   ]
  },
  {
   "cell_type": "code",
   "execution_count": 55,
   "metadata": {},
   "outputs": [],
   "source": [
    "tp = 200\n",
    "tw = 200\n",
    "to = 100\n",
    "\n",
    "tf = 240\n",
    "tm = 260\n",
    "tt = 500\n",
    "\n",
    "fp = (tf / tt) *tp\n",
    "fw = (tf / tt) *tw\n",
    "fo = (tf / tt) *to\n",
    "\n",
    "mp = (tm / tt) *tp\n",
    "mw = (tm / tt) *tw\n",
    "mo = (tm / tt) *to"
   ]
  },
  {
   "cell_type": "markdown",
   "metadata": {},
   "source": [
    "Papir calculation:\n",
    "\n",
    "$E=\\frac{\\text { row sum } x \\text { columns sum }}{\\text { total sum }}$"
   ]
  },
  {
   "cell_type": "code",
   "execution_count": 56,
   "metadata": {},
   "outputs": [
    {
     "name": "stdout",
     "output_type": "stream",
     "text": [
      "Expected value: \n"
     ]
    },
    {
     "data": {
      "text/html": [
       "<div>\n",
       "<style scoped>\n",
       "    .dataframe tbody tr th:only-of-type {\n",
       "        vertical-align: middle;\n",
       "    }\n",
       "\n",
       "    .dataframe tbody tr th {\n",
       "        vertical-align: top;\n",
       "    }\n",
       "\n",
       "    .dataframe thead th {\n",
       "        text-align: right;\n",
       "    }\n",
       "</style>\n",
       "<table border=\"1\" class=\"dataframe\">\n",
       "  <thead>\n",
       "    <tr style=\"text-align: right;\">\n",
       "      <th></th>\n",
       "      <th></th>\n",
       "      <th>Cabin eruiser</th>\n",
       "      <th>Day eruiser</th>\n",
       "      <th>Yacht</th>\n",
       "      <th>Total</th>\n",
       "    </tr>\n",
       "  </thead>\n",
       "  <tbody>\n",
       "    <tr>\n",
       "      <th>0</th>\n",
       "      <td>Ostfold</td>\n",
       "      <td>96.0</td>\n",
       "      <td>96.0</td>\n",
       "      <td>48.0</td>\n",
       "      <td>240</td>\n",
       "    </tr>\n",
       "    <tr>\n",
       "      <th>1</th>\n",
       "      <td>Vestfold</td>\n",
       "      <td>104.0</td>\n",
       "      <td>104.0</td>\n",
       "      <td>52.0</td>\n",
       "      <td>260</td>\n",
       "    </tr>\n",
       "    <tr>\n",
       "      <th>2</th>\n",
       "      <td>Total</td>\n",
       "      <td>200.0</td>\n",
       "      <td>200.0</td>\n",
       "      <td>100.0</td>\n",
       "      <td>500</td>\n",
       "    </tr>\n",
       "  </tbody>\n",
       "</table>\n",
       "</div>"
      ],
      "text/plain": [
       "             Cabin eruiser  Day eruiser  Yacht  Total\n",
       "0   Ostfold           96.0         96.0   48.0    240\n",
       "1  Vestfold          104.0        104.0   52.0    260\n",
       "2     Total          200.0        200.0  100.0    500"
      ]
     },
     "execution_count": 56,
     "metadata": {},
     "output_type": "execute_result"
    }
   ],
   "source": [
    "table2 = pd.DataFrame({\n",
    "    \n",
    "    '':    ['Ostfold', 'Vestfold', 'Total'],\n",
    "    'Cabin eruiser':    [fp, mp, tp],\n",
    "    'Day eruiser':      [fw, mw, tw],\n",
    "    'Yacht':            [fo, mo, to],\n",
    "    'Total':            [tf, tm, tt],\n",
    "\n",
    "})\n",
    "\n",
    "print('Expected value: ')\n",
    "\n",
    "table2"
   ]
  },
  {
   "cell_type": "markdown",
   "metadata": {},
   "source": [
    "$\n",
    "\\begin{array}{c}\n",
    "\\text { Test statistic } x^{2} \\\\\n",
    "x^{2}=\\sum \\frac{(0-E)^{2}}{E}\n",
    "\\end{array}\n",
    "$"
   ]
  },
  {
   "cell_type": "code",
   "execution_count": 57,
   "metadata": {},
   "outputs": [
    {
     "data": {
      "text/html": [
       "<div>\n",
       "<style scoped>\n",
       "    .dataframe tbody tr th:only-of-type {\n",
       "        vertical-align: middle;\n",
       "    }\n",
       "\n",
       "    .dataframe tbody tr th {\n",
       "        vertical-align: top;\n",
       "    }\n",
       "\n",
       "    .dataframe thead th {\n",
       "        text-align: right;\n",
       "    }\n",
       "</style>\n",
       "<table border=\"1\" class=\"dataframe\">\n",
       "  <thead>\n",
       "    <tr style=\"text-align: right;\">\n",
       "      <th></th>\n",
       "      <th></th>\n",
       "      <th>Cabin_eruiser</th>\n",
       "      <th>Day_eruiser</th>\n",
       "      <th>Yacht</th>\n",
       "    </tr>\n",
       "  </thead>\n",
       "  <tbody>\n",
       "    <tr>\n",
       "      <th>0</th>\n",
       "      <td>Ostfold</td>\n",
       "      <td>1.260417</td>\n",
       "      <td>2.041667</td>\n",
       "      <td>0.187500</td>\n",
       "    </tr>\n",
       "    <tr>\n",
       "      <th>1</th>\n",
       "      <td>Vestfold</td>\n",
       "      <td>1.163462</td>\n",
       "      <td>1.884615</td>\n",
       "      <td>0.173077</td>\n",
       "    </tr>\n",
       "  </tbody>\n",
       "</table>\n",
       "</div>"
      ],
      "text/plain": [
       "             Cabin_eruiser  Day_eruiser     Yacht\n",
       "0   Ostfold       1.260417     2.041667  0.187500\n",
       "1  Vestfold       1.163462     1.884615  0.173077"
      ]
     },
     "execution_count": 57,
     "metadata": {},
     "output_type": "execute_result"
    }
   ],
   "source": [
    "# See homogeneity table\n",
    "\n",
    "\n",
    "\n",
    "chi = pd.DataFrame({\n",
    "    \n",
    "    '':    ['Ostfold', 'Vestfold'],\n",
    "    'Cabin_eruiser':     [((ffp-fp)**2)/fp,((fmp-mp)**2)/mp],\n",
    "    'Day_eruiser':       [((ffw-fw)**2)/fw,((fmw-mw)**2)/mw],\n",
    "    'Yacht':             [((ffo-fo)**2)/fo,((fmo-mo)**2)/mo],\n",
    "\n",
    "})\n",
    "\n",
    "chi"
   ]
  },
  {
   "cell_type": "code",
   "execution_count": 58,
   "metadata": {},
   "outputs": [
    {
     "data": {
      "image/png": "[encoded data removed]",
      "text/latex": [
       "$\\displaystyle 2$"
      ],
      "text/plain": [
       "2"
      ]
     },
     "execution_count": 58,
     "metadata": {},
     "output_type": "execute_result"
    }
   ],
   "source": [
    "df = (len(chi.index) - 1) * (len(chi.columns) - 2)\n",
    "df"
   ]
  },
  {
   "cell_type": "markdown",
   "metadata": {},
   "source": [
    "Find the critical value from this table!\n",
    "Check the question about what the α is. In this case it's 0.05.\n",
    "\n",
    "α = 0.05\\\n",
    "df = 2\n",
    "\n",
    "https://www.statology.org/wp-content/uploads/2020/01/chi_square_table_small.jpg\n",
    "\n",
    "critical value is 5.991 is this case!"
   ]
  },
  {
   "cell_type": "code",
   "execution_count": 59,
   "metadata": {},
   "outputs": [],
   "source": [
    "critical_value = 5.991"
   ]
  },
  {
   "cell_type": "code",
   "execution_count": 60,
   "metadata": {},
   "outputs": [
    {
     "name": "stdout",
     "output_type": "stream",
     "text": [
      "test_statistics =\n"
     ]
    },
    {
     "data": {
      "image/png": "[encoded data removed]",
      "text/latex": [
       "$\\displaystyle 6.71073717948718$"
      ],
      "text/plain": [
       "6.71073717948718"
      ]
     },
     "execution_count": 60,
     "metadata": {},
     "output_type": "execute_result"
    }
   ],
   "source": [
    "# test_statistics = 𝑥2𝑥\n",
    "test_statistics = chi.Cabin_eruiser.sum() + chi.Day_eruiser.sum() + chi.Yacht.sum()\n",
    "print('test_statistics =')\n",
    "test_statistics"
   ]
  },
  {
   "cell_type": "code",
   "execution_count": 61,
   "metadata": {},
   "outputs": [
    {
     "name": "stdout",
     "output_type": "stream",
     "text": [
      "We reject HO, and accept HA. There is a relationsship between ...\n"
     ]
    }
   ],
   "source": [
    "if critical_value < test_statistics:\n",
    "    print('We reject HO, and accept HA. There is a relationsship between ...')\n",
    "else:\n",
    "    print('We keep H0. There is not a relationsship between ...')"
   ]
  },
  {
   "cell_type": "markdown",
   "metadata": {},
   "source": [
    "![green-divider](https://user-images.githubusercontent.com/7065401/52071924-c003ad80-2562-11e9-8297-1c6595f8a7ff.png)"
   ]
  },
  {
   "cell_type": "code",
   "execution_count": null,
   "metadata": {},
   "outputs": [],
   "source": []
  }
 ],
 "metadata": {
  "kernelspec": {
   "display_name": "Python 3",
   "language": "python",
   "name": "python3"
  },
  "language_info": {
   "codemirror_mode": {
    "name": "ipython",
    "version": 3
   },
   "file_extension": ".py",
   "mimetype": "text/x-python",
   "name": "python",
   "nbconvert_exporter": "python",
   "pygments_lexer": "ipython3",
   "version": "3.8.5"
  }
 },
 "nbformat": 4,
 "nbformat_minor": 4
}
